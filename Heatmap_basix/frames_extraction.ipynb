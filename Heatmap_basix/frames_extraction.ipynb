{
 "cells": [
  {
   "cell_type": "code",
   "execution_count": 1,
   "metadata": {},
   "outputs": [],
   "source": [
    "import cv2\n",
    "import numpy \n",
    "import re \n",
    "import os     \n",
    "from os.path import isfile, join"
   ]
  },
  {
   "cell_type": "code",
   "execution_count": 8,
   "metadata": {},
   "outputs": [],
   "source": [
    "def convert_frames_to_video(pathIn,pathOut,fps):\n",
    "    frame_array = []\n",
    "    files = [f for f in os.listdir(pathIn)if isfile(join(pathIn,f))] #listdir function lists all the files in the directory and the isfile function checks whether the selected thing is a file or not. If it is a file, it returns True ,otherwise False.\n",
    "    def get_digits(text):\n",
    "        return int(text) if text.isdigit() else text\n",
    "    def natural_keys(text):\n",
    "        return [get_digits(c) for c in re.split(r'(/d+)',text)]\n",
    "    files.sort(key=natural_keys)\n",
    "    dimensions = (0,0)\n",
    "    for i in range(len(files)):\n",
    "        filename = pathIn + files[i]\n",
    "        img = cv2.imread(filename)\n",
    "        h,w,l = img.shape\n",
    "        dimensions = (w,h)\n",
    "        frame_array.append(img)\n",
    "    out = cv2.VideoWriter(pathOut, cv2.VideoWriter_fourcc(*'DIVX'),fps,dimensions)\n",
    "    for i in range(len(frame_array)):\n",
    "        out.write(frame_array[i])\n",
    "    out.realease()\n",
    "    "
   ]
  },
  {
   "cell_type": "code",
   "execution_count": 9,
   "metadata": {},
   "outputs": [
    {
     "name": "stderr",
     "output_type": "stream",
     "text": [
      "[ERROR:0@2583.499] global cap.cpp:645 open VIDEOIO(CV_IMAGES): raised OpenCV exception:\n",
      "\n",
      "OpenCV(4.8.0) /Users/xperience/GHA-OpenCV-Python/_work/opencv-python/opencv-python/opencv/modules/videoio/src/cap_images.cpp:253: error: (-5:Bad argument) CAP_IMAGES: can't find starting number (in the name of file): video.avi in function 'icvExtractPattern'\n",
      "\n",
      "\n"
     ]
    },
    {
     "ename": "AttributeError",
     "evalue": "'cv2.VideoWriter' object has no attribute 'realease'",
     "output_type": "error",
     "traceback": [
      "\u001b[0;31m---------------------------------------------------------------------------\u001b[0m",
      "\u001b[0;31mAttributeError\u001b[0m                            Traceback (most recent call last)",
      "Cell \u001b[0;32mIn[9], line 8\u001b[0m\n\u001b[1;32m      5\u001b[0m     convert_frames_to_video(pathIn,pathOut,fps)\n\u001b[1;32m      7\u001b[0m \u001b[39mif\u001b[39;00m \u001b[39m__name__\u001b[39m\u001b[39m==\u001b[39m\u001b[39m\"\u001b[39m\u001b[39m__main__\u001b[39m\u001b[39m\"\u001b[39m:\n\u001b[0;32m----> 8\u001b[0m     main()\n",
      "Cell \u001b[0;32mIn[9], line 5\u001b[0m, in \u001b[0;36mmain\u001b[0;34m()\u001b[0m\n\u001b[1;32m      3\u001b[0m pathOut \u001b[39m=\u001b[39m \u001b[39m'\u001b[39m\u001b[39mvideo.avi\u001b[39m\u001b[39m'\u001b[39m\n\u001b[1;32m      4\u001b[0m fps \u001b[39m=\u001b[39m \u001b[39m30.0\u001b[39m\n\u001b[0;32m----> 5\u001b[0m convert_frames_to_video(pathIn,pathOut,fps)\n",
      "Cell \u001b[0;32mIn[8], line 19\u001b[0m, in \u001b[0;36mconvert_frames_to_video\u001b[0;34m(pathIn, pathOut, fps)\u001b[0m\n\u001b[1;32m     17\u001b[0m \u001b[39mfor\u001b[39;00m i \u001b[39min\u001b[39;00m \u001b[39mrange\u001b[39m(\u001b[39mlen\u001b[39m(frame_array)):\n\u001b[1;32m     18\u001b[0m     out\u001b[39m.\u001b[39mwrite(frame_array[i])\n\u001b[0;32m---> 19\u001b[0m out\u001b[39m.\u001b[39;49mrealease()\n",
      "\u001b[0;31mAttributeError\u001b[0m: 'cv2.VideoWriter' object has no attribute 'realease'"
     ]
    }
   ],
   "source": [
    "def main():\n",
    "    pathIn='./frames/'\n",
    "    pathOut = 'video.avi'\n",
    "    fps = 30.0\n",
    "    convert_frames_to_video(pathIn,pathOut,fps)\n",
    "\n",
    "if __name__==\"__main__\":\n",
    "    main()"
   ]
  },
  {
   "cell_type": "code",
   "execution_count": null,
   "metadata": {},
   "outputs": [],
   "source": []
  }
 ],
 "metadata": {
  "kernelspec": {
   "display_name": "UC",
   "language": "python",
   "name": "python3"
  },
  "language_info": {
   "codemirror_mode": {
    "name": "ipython",
    "version": 3
   },
   "file_extension": ".py",
   "mimetype": "text/x-python",
   "name": "python",
   "nbconvert_exporter": "python",
   "pygments_lexer": "ipython3",
   "version": "3.11.3"
  },
  "orig_nbformat": 4
 },
 "nbformat": 4,
 "nbformat_minor": 2
}
