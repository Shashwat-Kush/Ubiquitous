{
 "cells": [
  {
   "cell_type": "code",
   "execution_count": 3,
   "metadata": {},
   "outputs": [],
   "source": [
    "import cv2\n",
    "import numpy\n",
    "import os\n",
    "import re\n",
    "from progress.bar import Bar"
   ]
  },
  {
   "cell_type": "code",
   "execution_count": 4,
   "metadata": {},
   "outputs": [],
   "source": [
    "def atoi(text):\n",
    "    return int(text) if text.isdigit() else text\n",
    "def natural_keys(text):\n",
    "    return [atoi(c) for c in re.split(r'(/d+)',text)]"
   ]
  },
  {
   "cell_type": "code",
   "execution_count": 5,
   "metadata": {},
   "outputs": [],
   "source": [
    "def make_video(image_folder,video_name):\n",
    "    images = [img for img in os.listdir(image_folder)]\n",
    "    images.sort(key = natural_keys)\n",
    "    print(images)\n",
    "    frame = cv2.imread(os.path.join(image_folder,images[0]))\n",
    "    h,w,l = frame.shape\n",
    "    dimensions = (w,h)\n",
    "    video = cv2.VideoWriter(video_name,cv2.VideoWriter_fourcc(*'DIVX'),fps,dimensions)\n",
    "    bar= Bar('Video Creation in progress', max = len(images))\n",
    "    for image in images:\n",
    "        video.write(cv2.imread(os.path.join(image_folder,image)))\n",
    "        bar.next()\n",
    "    cv2.destroyAllWindows()\n",
    "    video.release()\n",
    "\n",
    "    for file in os.listdir(image_folder):\n",
    "        os.remove(image_folder+file)"
   ]
  },
  {
   "cell_type": "code",
   "execution_count": null,
   "metadata": {},
   "outputs": [],
   "source": []
  }
 ],
 "metadata": {
  "kernelspec": {
   "display_name": "UC",
   "language": "python",
   "name": "python3"
  },
  "language_info": {
   "codemirror_mode": {
    "name": "ipython",
    "version": 3
   },
   "file_extension": ".py",
   "mimetype": "text/x-python",
   "name": "python",
   "nbconvert_exporter": "python",
   "pygments_lexer": "ipython3",
   "version": "3.11.3"
  },
  "orig_nbformat": 4
 },
 "nbformat": 4,
 "nbformat_minor": 2
}
