{
 "cells": [
  {
   "cell_type": "code",
   "execution_count": 6,
   "metadata": {},
   "outputs": [
    {
     "name": "stderr",
     "output_type": "stream",
     "text": [
      "/Users/shashwatkushwaha/Desktop/UC/UC/lib/python3.11/site-packages/tqdm/auto.py:21: TqdmWarning: IProgress not found. Please update jupyter and ipywidgets. See https://ipywidgets.readthedocs.io/en/stable/user_install.html\n",
      "  from .autonotebook import tqdm as notebook_tqdm\n"
     ]
    }
   ],
   "source": [
    "import cv2\n",
    "import numpy\n",
    "import re\n",
    "import os\n",
    "from frames_integration import make_video\n",
    "from progress.bar import Bar\n",
    "import gradio as gr"
   ]
  },
  {
   "cell_type": "code",
   "execution_count": 10,
   "metadata": {},
   "outputs": [
    {
     "name": "stderr",
     "output_type": "stream",
     "text": [
      "OpenCV: Couldn't read video stream from file \"input.mp4\"\n"
     ]
    },
    {
     "ename": "FileNotFoundError",
     "evalue": "[Errno 2] No such file or directory: '/frames/'",
     "output_type": "error",
     "traceback": [
      "\u001b[0;31m---------------------------------------------------------------------------\u001b[0m",
      "\u001b[0;31mFileNotFoundError\u001b[0m                         Traceback (most recent call last)",
      "Cell \u001b[0;32mIn[10], line 49\u001b[0m\n\u001b[1;32m     46\u001b[0m     cv2\u001b[39m.\u001b[39mdestroyAllWindows()\n\u001b[1;32m     48\u001b[0m \u001b[39mif\u001b[39;00m \u001b[39m__name__\u001b[39m \u001b[39m==\u001b[39m \u001b[39m'\u001b[39m\u001b[39m__main__\u001b[39m\u001b[39m'\u001b[39m:\n\u001b[0;32m---> 49\u001b[0m     main()\n",
      "Cell \u001b[0;32mIn[10], line 42\u001b[0m, in \u001b[0;36mmain\u001b[0;34m()\u001b[0m\n\u001b[1;32m     39\u001b[0m     bar\u001b[39m.\u001b[39mnext()\n\u001b[1;32m     40\u001b[0m bar\u001b[39m.\u001b[39mfinish()\n\u001b[0;32m---> 42\u001b[0m make_video(\u001b[39m'\u001b[39;49m\u001b[39m/frames/\u001b[39;49m\u001b[39m'\u001b[39;49m,\u001b[39m'\u001b[39;49m\u001b[39m./output.mp4\u001b[39;49m\u001b[39m'\u001b[39;49m)\n\u001b[1;32m     43\u001b[0m cv2\u001b[39m.\u001b[39mimwrite(\u001b[39m'\u001b[39m\u001b[39mdiff-overlay.jpg\u001b[39m\u001b[39m'\u001b[39m,result_overlay)\n\u001b[1;32m     45\u001b[0m capture\u001b[39m.\u001b[39mrelease()\n",
      "File \u001b[0;32m~/Desktop/UC/frames_integration.py:13\u001b[0m, in \u001b[0;36mmake_video\u001b[0;34m(image_folder, video_name)\u001b[0m\n\u001b[1;32m     12\u001b[0m \u001b[39mdef\u001b[39;00m \u001b[39mmake_video\u001b[39m(image_folder,video_name):\n\u001b[0;32m---> 13\u001b[0m     images \u001b[39m=\u001b[39m [img \u001b[39mfor\u001b[39;00m img \u001b[39min\u001b[39;00m os\u001b[39m.\u001b[39;49mlistdir(image_folder)]\n\u001b[1;32m     14\u001b[0m     images\u001b[39m.\u001b[39msort(key \u001b[39m=\u001b[39m natural_keys)\n\u001b[1;32m     15\u001b[0m     \u001b[39mprint\u001b[39m(images)\n",
      "\u001b[0;31mFileNotFoundError\u001b[0m: [Errno 2] No such file or directory: '/frames/'"
     ]
    }
   ],
   "source": [
    "def main():\n",
    "    cap = cv2.VideoCapture('input.mp4')\n",
    "    background_subtractor = cv2.createBackgroundSubtractorMOG2()\n",
    "    length = int(cap.get(cv2.CAP_PROP_FRAME_COUNT))\n",
    "    try:\n",
    "        if not os.path.exists('frames'):\n",
    "            os.makedirs('frames')\n",
    "    except OSError:\n",
    "        print('Error creating directory for frame storage')\n",
    "    \n",
    "    bar = Bar('Processing Frames',max = length)\n",
    "    first_interation_indicator = 1\n",
    "    for i in range(0,length):\n",
    "        ret, frame = capture.read()\n",
    "        if first_interaction_indicator ==1:\n",
    "            first_frame = copy.deepcopy(frame)\n",
    "            height, width = first_frame.shape[:2]\n",
    "            accum_image = np.zeros((height,width),np.uint8)\n",
    "            first_interaction_indicator =0 \n",
    "        else:\n",
    "            filter = background_subtractor.apply(frame)\n",
    "            cv2.imwrite('./frame.jpg',frame)\n",
    "            cv2.imwrite('./diff-bgm-frame.jpg',filter)\n",
    "\n",
    "            threshold=2\n",
    "            max_value = 2\n",
    "            ret, th1 = cv2.threshold(filter,threshold,max_value,cv2.THRESH_BINARY)\n",
    "            accun_image = cv2.add(accum_image,th1)\n",
    "            cv2.imwrite('./mask.jpg',accum_image)\n",
    "            color_image_video = cv2.applyColorMap(accum_image, cv2.COLORMAP_HOT)\n",
    "            video_frame = cv2.addWeighted(frame,0.7,color_image_video,0.7,0)\n",
    "            color_image = cv2.applyColorMap(accum_image,cv2.COLORMAP_SUMMER)\n",
    "            result_overlay = cv2.addWeighted(first_frame,0.7,color_image,0.7,0)\n",
    "            cv2.imwrite('./result_overlay.jpg',result_overlay)  \n",
    "            cv2.imwrite('./frames/frame%d.jpg' %i, result_overlay)\n",
    "\n",
    "            if cv2.waitKey(1) & 0xFF ==ord('q'):\n",
    "                break\n",
    "        bar.next()\n",
    "    bar.finish()\n",
    "\n",
    "    make_video('/frames/','./output.mp4')\n",
    "    cv2.imwrite('diff-overlay.jpg',result_overlay)\n",
    "\n",
    "    capture.release()\n",
    "    cv2.destroyAllWindows()\n",
    "\n",
    "if __name__ == '__main__':\n",
    "    main()\n"
   ]
  },
  {
   "cell_type": "code",
   "execution_count": null,
   "metadata": {},
   "outputs": [],
   "source": []
  }
 ],
 "metadata": {
  "kernelspec": {
   "display_name": "UC",
   "language": "python",
   "name": "python3"
  },
  "language_info": {
   "codemirror_mode": {
    "name": "ipython",
    "version": 3
   },
   "file_extension": ".py",
   "mimetype": "text/x-python",
   "name": "python",
   "nbconvert_exporter": "python",
   "pygments_lexer": "ipython3",
   "version": "3.11.3"
  },
  "orig_nbformat": 4
 },
 "nbformat": 4,
 "nbformat_minor": 2
}
